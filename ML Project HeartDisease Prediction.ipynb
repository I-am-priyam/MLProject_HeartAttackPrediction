{
 "cells": [
  {
   "cell_type": "markdown",
   "metadata": {},
   "source": [
    "## ML solution proposed by : **PRIYAM SAHA**"
   ]
  },
  {
   "cell_type": "markdown",
   "metadata": {},
   "source": [
    "<div class=\"alert alert-danger alertdanger\" style=\"margin-top: 20px\">\n",
    "    <h1>Heart Disease Attribute Information</h1>"
   ]
  },
  {
   "cell_type": "markdown",
   "metadata": {},
   "source": [
    "\n",
    "<b> age:</b> age in years<br>\n",
    "<b> sex:</b> sex (1 = male; 0 = female)<br>\n",
    "<b> cp:</b> chest pain type<br>\n",
    "-- Value 1: typical angina<br>\n",
    "-- Value 2: atypical angina<br>\n",
    "-- Value 3: non-anginal pain<br>\n",
    "-- Value 4: asymptomatic<br>\n",
    "<b> trestbps:</b> resting blood pressure (in mm Hg on admission to the hospital)<br>\n",
    "<b> chol:</b> serum cholestoral in mg/dl<br>\n",
    "<b> fbs:</b> (fasting blood sugar > 120 mg/dl) (1 = true; 0 = false)<br>\n",
    "<b> restecg:</b> resting electrocardiographic results<br>\n",
    "-- Value 0: normal<br>\n",
    "-- Value 1: having ST-T wave abnormality (T wave inversions and/or ST elevation or depression of > 0.05 mV)<br>\n",
    "-- Value 2: showing probable or definite left ventricular hypertrophy by Estes' criteria<br>\n",
    "<b> thalach:</b> maximum heart rate achieved<br>\n",
    "<b> exang:</b> exercise induced angina (1 = yes; 0 = no)<br>\n",
    "<b> oldpeak:</b> ST depression induced by exercise relative to rest<br>\n",
    "<b> slope:</b> the slope of the peak exercise ST segment<br>\n",
    "-- Value 1: upsloping<br>\n",
    "-- Value 2: flat<br>\n",
    "-- Value 3: downsloping<br>\n",
    "<b> ca:</b> number of major vessels (0-3) colored by flourosopy<br>\n",
    "<b> thal:</b> 3 = normal; 6 = fixed defect; 7 = reversable defect<br>\n",
    "<b> num:</b> diagnosis of heart disease (angiographic disease status)<br>\n",
    "-- Value 0: < 50% diameter narrowing<br>\n",
    "-- Value 1: > 50% diameter narrowing<br>\n",
    "<br>\n",
    "<i>SOURCE : UCI Machine Learning Repository</i>"
   ]
  },
  {
   "cell_type": "markdown",
   "metadata": {},
   "source": [
    "## Importing Python Libraries"
   ]
  },
  {
   "cell_type": "code",
   "execution_count": 1,
   "metadata": {},
   "outputs": [],
   "source": [
    "import numpy as np \n",
    "import matplotlib.pyplot as plt\n",
    "import pandas as pd\n",
    "from sklearn.metrics import classification_report\n",
    "from sklearn.metrics import confusion_matrix\n",
    "from sklearn.metrics import accuracy_score\n",
    "from sklearn.model_selection import train_test_split\n",
    "from sklearn.model_selection import cross_val_score\n",
    "from sklearn.model_selection import KFold\n",
    "from sklearn.tree import DecisionTreeClassifier\n",
    "from sklearn.neighbors import KNeighborsClassifier\n",
    "from sklearn.naive_bayes import GaussianNB\n",
    "from sklearn.pipeline import Pipeline\n",
    "from sklearn.preprocessing import StandardScaler\n",
    "from sklearn.svm import SVC\n",
    "from sklearn.linear_model import LogisticRegression\n",
    "import warnings\n",
    "warnings.filterwarnings(action=\"ignore\")\n",
    "import time\n",
    "import seaborn as sns"
   ]
  },
  {
   "cell_type": "markdown",
   "metadata": {},
   "source": [
    "# Load Dataset"
   ]
  },
  {
   "cell_type": "code",
   "execution_count": 2,
   "metadata": {},
   "outputs": [
    {
     "data": {
      "text/html": [
       "<div>\n",
       "<style scoped>\n",
       "    .dataframe tbody tr th:only-of-type {\n",
       "        vertical-align: middle;\n",
       "    }\n",
       "\n",
       "    .dataframe tbody tr th {\n",
       "        vertical-align: top;\n",
       "    }\n",
       "\n",
       "    .dataframe thead th {\n",
       "        text-align: right;\n",
       "    }\n",
       "</style>\n",
       "<table border=\"1\" class=\"dataframe\">\n",
       "  <thead>\n",
       "    <tr style=\"text-align: right;\">\n",
       "      <th></th>\n",
       "      <th>age</th>\n",
       "      <th>sex</th>\n",
       "      <th>cp</th>\n",
       "      <th>trestbps</th>\n",
       "      <th>chol</th>\n",
       "      <th>fbs</th>\n",
       "      <th>restecg</th>\n",
       "      <th>thalach</th>\n",
       "      <th>exang</th>\n",
       "      <th>oldpeak</th>\n",
       "      <th>slope</th>\n",
       "      <th>ca</th>\n",
       "      <th>thal</th>\n",
       "      <th>num</th>\n",
       "    </tr>\n",
       "  </thead>\n",
       "  <tbody>\n",
       "    <tr>\n",
       "      <th>0</th>\n",
       "      <td>28</td>\n",
       "      <td>1</td>\n",
       "      <td>2</td>\n",
       "      <td>130.0</td>\n",
       "      <td>132.0</td>\n",
       "      <td>0.0</td>\n",
       "      <td>2.0</td>\n",
       "      <td>185.0</td>\n",
       "      <td>0.0</td>\n",
       "      <td>0.0</td>\n",
       "      <td>NaN</td>\n",
       "      <td>NaN</td>\n",
       "      <td>NaN</td>\n",
       "      <td>0</td>\n",
       "    </tr>\n",
       "    <tr>\n",
       "      <th>1</th>\n",
       "      <td>29</td>\n",
       "      <td>1</td>\n",
       "      <td>2</td>\n",
       "      <td>120.0</td>\n",
       "      <td>243.0</td>\n",
       "      <td>0.0</td>\n",
       "      <td>0.0</td>\n",
       "      <td>160.0</td>\n",
       "      <td>0.0</td>\n",
       "      <td>0.0</td>\n",
       "      <td>NaN</td>\n",
       "      <td>NaN</td>\n",
       "      <td>NaN</td>\n",
       "      <td>0</td>\n",
       "    </tr>\n",
       "    <tr>\n",
       "      <th>2</th>\n",
       "      <td>29</td>\n",
       "      <td>1</td>\n",
       "      <td>2</td>\n",
       "      <td>140.0</td>\n",
       "      <td>NaN</td>\n",
       "      <td>0.0</td>\n",
       "      <td>0.0</td>\n",
       "      <td>170.0</td>\n",
       "      <td>0.0</td>\n",
       "      <td>0.0</td>\n",
       "      <td>NaN</td>\n",
       "      <td>NaN</td>\n",
       "      <td>NaN</td>\n",
       "      <td>0</td>\n",
       "    </tr>\n",
       "    <tr>\n",
       "      <th>3</th>\n",
       "      <td>30</td>\n",
       "      <td>0</td>\n",
       "      <td>1</td>\n",
       "      <td>170.0</td>\n",
       "      <td>237.0</td>\n",
       "      <td>0.0</td>\n",
       "      <td>1.0</td>\n",
       "      <td>170.0</td>\n",
       "      <td>0.0</td>\n",
       "      <td>0.0</td>\n",
       "      <td>NaN</td>\n",
       "      <td>NaN</td>\n",
       "      <td>6.0</td>\n",
       "      <td>0</td>\n",
       "    </tr>\n",
       "    <tr>\n",
       "      <th>4</th>\n",
       "      <td>31</td>\n",
       "      <td>0</td>\n",
       "      <td>2</td>\n",
       "      <td>100.0</td>\n",
       "      <td>219.0</td>\n",
       "      <td>0.0</td>\n",
       "      <td>1.0</td>\n",
       "      <td>150.0</td>\n",
       "      <td>0.0</td>\n",
       "      <td>0.0</td>\n",
       "      <td>NaN</td>\n",
       "      <td>NaN</td>\n",
       "      <td>NaN</td>\n",
       "      <td>0</td>\n",
       "    </tr>\n",
       "  </tbody>\n",
       "</table>\n",
       "</div>"
      ],
      "text/plain": [
       "   age  sex  cp  trestbps   chol  fbs  restecg  thalach  exang  oldpeak  \\\n",
       "0   28    1   2     130.0  132.0  0.0      2.0    185.0    0.0      0.0   \n",
       "1   29    1   2     120.0  243.0  0.0      0.0    160.0    0.0      0.0   \n",
       "2   29    1   2     140.0    NaN  0.0      0.0    170.0    0.0      0.0   \n",
       "3   30    0   1     170.0  237.0  0.0      1.0    170.0    0.0      0.0   \n",
       "4   31    0   2     100.0  219.0  0.0      1.0    150.0    0.0      0.0   \n",
       "\n",
       "   slope  ca  thal  num  \n",
       "0    NaN NaN   NaN    0  \n",
       "1    NaN NaN   NaN    0  \n",
       "2    NaN NaN   NaN    0  \n",
       "3    NaN NaN   6.0    0  \n",
       "4    NaN NaN   NaN    0  "
      ]
     },
     "execution_count": 2,
     "metadata": {},
     "output_type": "execute_result"
    }
   ],
   "source": [
    "file=\"HeartAttack_data.csv\"\n",
    "df=pd.read_csv(file,na_values=['?'])\n",
    "df.head()"
   ]
  },
  {
   "cell_type": "code",
   "execution_count": 3,
   "metadata": {},
   "outputs": [
    {
     "name": "stdout",
     "output_type": "stream",
     "text": [
      "['age' 'sex' 'cp' 'trestbps' 'chol' 'fbs' 'restecg' 'thalach' 'exang'\n",
      " 'oldpeak' 'slope' 'ca' 'thal' 'num']\n"
     ]
    }
   ],
   "source": [
    "#Get the column names from DataFrame object\n",
    "col_names=df.columns.values\n",
    "print(col_names)"
   ]
  },
  {
   "cell_type": "markdown",
   "metadata": {},
   "source": [
    "# Exploratory Data Analysis"
   ]
  },
  {
   "cell_type": "code",
   "execution_count": 4,
   "metadata": {},
   "outputs": [
    {
     "data": {
      "text/plain": [
       "(294, 14)"
      ]
     },
     "execution_count": 4,
     "metadata": {},
     "output_type": "execute_result"
    }
   ],
   "source": [
    "df.shape"
   ]
  },
  {
   "cell_type": "code",
   "execution_count": 5,
   "metadata": {},
   "outputs": [
    {
     "data": {
      "text/plain": [
       "age           int64\n",
       "sex           int64\n",
       "cp            int64\n",
       "trestbps    float64\n",
       "chol        float64\n",
       "fbs         float64\n",
       "restecg     float64\n",
       "thalach     float64\n",
       "exang       float64\n",
       "oldpeak     float64\n",
       "slope       float64\n",
       "ca          float64\n",
       "thal        float64\n",
       "num           int64\n",
       "dtype: object"
      ]
     },
     "execution_count": 5,
     "metadata": {},
     "output_type": "execute_result"
    }
   ],
   "source": [
    "df.dtypes"
   ]
  },
  {
   "cell_type": "code",
   "execution_count": 6,
   "metadata": {},
   "outputs": [
    {
     "data": {
      "text/html": [
       "<div>\n",
       "<style scoped>\n",
       "    .dataframe tbody tr th:only-of-type {\n",
       "        vertical-align: middle;\n",
       "    }\n",
       "\n",
       "    .dataframe tbody tr th {\n",
       "        vertical-align: top;\n",
       "    }\n",
       "\n",
       "    .dataframe thead th {\n",
       "        text-align: right;\n",
       "    }\n",
       "</style>\n",
       "<table border=\"1\" class=\"dataframe\">\n",
       "  <thead>\n",
       "    <tr style=\"text-align: right;\">\n",
       "      <th></th>\n",
       "      <th>age</th>\n",
       "      <th>sex</th>\n",
       "      <th>cp</th>\n",
       "      <th>trestbps</th>\n",
       "      <th>chol</th>\n",
       "      <th>fbs</th>\n",
       "      <th>restecg</th>\n",
       "      <th>thalach</th>\n",
       "      <th>exang</th>\n",
       "      <th>oldpeak</th>\n",
       "      <th>slope</th>\n",
       "      <th>ca</th>\n",
       "      <th>thal</th>\n",
       "      <th>num</th>\n",
       "    </tr>\n",
       "  </thead>\n",
       "  <tbody>\n",
       "    <tr>\n",
       "      <th>count</th>\n",
       "      <td>294.000000</td>\n",
       "      <td>294.000000</td>\n",
       "      <td>294.000000</td>\n",
       "      <td>293.000000</td>\n",
       "      <td>271.000000</td>\n",
       "      <td>286.000000</td>\n",
       "      <td>293.000000</td>\n",
       "      <td>293.000000</td>\n",
       "      <td>293.000000</td>\n",
       "      <td>294.000000</td>\n",
       "      <td>104.000000</td>\n",
       "      <td>3.0</td>\n",
       "      <td>28.000000</td>\n",
       "      <td>294.000000</td>\n",
       "    </tr>\n",
       "    <tr>\n",
       "      <th>mean</th>\n",
       "      <td>47.826531</td>\n",
       "      <td>0.724490</td>\n",
       "      <td>2.982993</td>\n",
       "      <td>132.583618</td>\n",
       "      <td>250.848708</td>\n",
       "      <td>0.069930</td>\n",
       "      <td>0.218430</td>\n",
       "      <td>139.129693</td>\n",
       "      <td>0.303754</td>\n",
       "      <td>0.586054</td>\n",
       "      <td>1.894231</td>\n",
       "      <td>0.0</td>\n",
       "      <td>5.642857</td>\n",
       "      <td>0.360544</td>\n",
       "    </tr>\n",
       "    <tr>\n",
       "      <th>std</th>\n",
       "      <td>7.811812</td>\n",
       "      <td>0.447533</td>\n",
       "      <td>0.965117</td>\n",
       "      <td>17.626568</td>\n",
       "      <td>67.657711</td>\n",
       "      <td>0.255476</td>\n",
       "      <td>0.460868</td>\n",
       "      <td>23.589749</td>\n",
       "      <td>0.460665</td>\n",
       "      <td>0.908648</td>\n",
       "      <td>0.338995</td>\n",
       "      <td>0.0</td>\n",
       "      <td>1.615074</td>\n",
       "      <td>0.480977</td>\n",
       "    </tr>\n",
       "    <tr>\n",
       "      <th>min</th>\n",
       "      <td>28.000000</td>\n",
       "      <td>0.000000</td>\n",
       "      <td>1.000000</td>\n",
       "      <td>92.000000</td>\n",
       "      <td>85.000000</td>\n",
       "      <td>0.000000</td>\n",
       "      <td>0.000000</td>\n",
       "      <td>82.000000</td>\n",
       "      <td>0.000000</td>\n",
       "      <td>0.000000</td>\n",
       "      <td>1.000000</td>\n",
       "      <td>0.0</td>\n",
       "      <td>3.000000</td>\n",
       "      <td>0.000000</td>\n",
       "    </tr>\n",
       "    <tr>\n",
       "      <th>25%</th>\n",
       "      <td>42.000000</td>\n",
       "      <td>0.000000</td>\n",
       "      <td>2.000000</td>\n",
       "      <td>120.000000</td>\n",
       "      <td>209.000000</td>\n",
       "      <td>0.000000</td>\n",
       "      <td>0.000000</td>\n",
       "      <td>122.000000</td>\n",
       "      <td>0.000000</td>\n",
       "      <td>0.000000</td>\n",
       "      <td>2.000000</td>\n",
       "      <td>0.0</td>\n",
       "      <td>5.250000</td>\n",
       "      <td>0.000000</td>\n",
       "    </tr>\n",
       "    <tr>\n",
       "      <th>50%</th>\n",
       "      <td>49.000000</td>\n",
       "      <td>1.000000</td>\n",
       "      <td>3.000000</td>\n",
       "      <td>130.000000</td>\n",
       "      <td>243.000000</td>\n",
       "      <td>0.000000</td>\n",
       "      <td>0.000000</td>\n",
       "      <td>140.000000</td>\n",
       "      <td>0.000000</td>\n",
       "      <td>0.000000</td>\n",
       "      <td>2.000000</td>\n",
       "      <td>0.0</td>\n",
       "      <td>6.000000</td>\n",
       "      <td>0.000000</td>\n",
       "    </tr>\n",
       "    <tr>\n",
       "      <th>75%</th>\n",
       "      <td>54.000000</td>\n",
       "      <td>1.000000</td>\n",
       "      <td>4.000000</td>\n",
       "      <td>140.000000</td>\n",
       "      <td>282.500000</td>\n",
       "      <td>0.000000</td>\n",
       "      <td>0.000000</td>\n",
       "      <td>155.000000</td>\n",
       "      <td>1.000000</td>\n",
       "      <td>1.000000</td>\n",
       "      <td>2.000000</td>\n",
       "      <td>0.0</td>\n",
       "      <td>7.000000</td>\n",
       "      <td>1.000000</td>\n",
       "    </tr>\n",
       "    <tr>\n",
       "      <th>max</th>\n",
       "      <td>66.000000</td>\n",
       "      <td>1.000000</td>\n",
       "      <td>4.000000</td>\n",
       "      <td>200.000000</td>\n",
       "      <td>603.000000</td>\n",
       "      <td>1.000000</td>\n",
       "      <td>2.000000</td>\n",
       "      <td>190.000000</td>\n",
       "      <td>1.000000</td>\n",
       "      <td>5.000000</td>\n",
       "      <td>3.000000</td>\n",
       "      <td>0.0</td>\n",
       "      <td>7.000000</td>\n",
       "      <td>1.000000</td>\n",
       "    </tr>\n",
       "  </tbody>\n",
       "</table>\n",
       "</div>"
      ],
      "text/plain": [
       "              age         sex          cp    trestbps        chol         fbs  \\\n",
       "count  294.000000  294.000000  294.000000  293.000000  271.000000  286.000000   \n",
       "mean    47.826531    0.724490    2.982993  132.583618  250.848708    0.069930   \n",
       "std      7.811812    0.447533    0.965117   17.626568   67.657711    0.255476   \n",
       "min     28.000000    0.000000    1.000000   92.000000   85.000000    0.000000   \n",
       "25%     42.000000    0.000000    2.000000  120.000000  209.000000    0.000000   \n",
       "50%     49.000000    1.000000    3.000000  130.000000  243.000000    0.000000   \n",
       "75%     54.000000    1.000000    4.000000  140.000000  282.500000    0.000000   \n",
       "max     66.000000    1.000000    4.000000  200.000000  603.000000    1.000000   \n",
       "\n",
       "          restecg     thalach       exang     oldpeak       slope   ca  \\\n",
       "count  293.000000  293.000000  293.000000  294.000000  104.000000  3.0   \n",
       "mean     0.218430  139.129693    0.303754    0.586054    1.894231  0.0   \n",
       "std      0.460868   23.589749    0.460665    0.908648    0.338995  0.0   \n",
       "min      0.000000   82.000000    0.000000    0.000000    1.000000  0.0   \n",
       "25%      0.000000  122.000000    0.000000    0.000000    2.000000  0.0   \n",
       "50%      0.000000  140.000000    0.000000    0.000000    2.000000  0.0   \n",
       "75%      0.000000  155.000000    1.000000    1.000000    2.000000  0.0   \n",
       "max      2.000000  190.000000    1.000000    5.000000    3.000000  0.0   \n",
       "\n",
       "            thal         num  \n",
       "count  28.000000  294.000000  \n",
       "mean    5.642857    0.360544  \n",
       "std     1.615074    0.480977  \n",
       "min     3.000000    0.000000  \n",
       "25%     5.250000    0.000000  \n",
       "50%     6.000000    0.000000  \n",
       "75%     7.000000    1.000000  \n",
       "max     7.000000    1.000000  "
      ]
     },
     "execution_count": 6,
     "metadata": {},
     "output_type": "execute_result"
    }
   ],
   "source": [
    "df.describe()"
   ]
  },
  {
   "cell_type": "code",
   "execution_count": 7,
   "metadata": {
    "scrolled": true
   },
   "outputs": [
    {
     "data": {
      "text/html": [
       "<div>\n",
       "<style scoped>\n",
       "    .dataframe tbody tr th:only-of-type {\n",
       "        vertical-align: middle;\n",
       "    }\n",
       "\n",
       "    .dataframe tbody tr th {\n",
       "        vertical-align: top;\n",
       "    }\n",
       "\n",
       "    .dataframe thead th {\n",
       "        text-align: right;\n",
       "    }\n",
       "</style>\n",
       "<table border=\"1\" class=\"dataframe\">\n",
       "  <thead>\n",
       "    <tr style=\"text-align: right;\">\n",
       "      <th></th>\n",
       "      <th>age</th>\n",
       "      <th>sex</th>\n",
       "      <th>cp</th>\n",
       "      <th>trestbps</th>\n",
       "      <th>chol</th>\n",
       "      <th>fbs</th>\n",
       "      <th>restecg</th>\n",
       "      <th>thalach</th>\n",
       "      <th>exang</th>\n",
       "      <th>oldpeak</th>\n",
       "      <th>slope</th>\n",
       "      <th>ca</th>\n",
       "      <th>thal</th>\n",
       "      <th>num</th>\n",
       "    </tr>\n",
       "  </thead>\n",
       "  <tbody>\n",
       "    <tr>\n",
       "      <th>0</th>\n",
       "      <td>False</td>\n",
       "      <td>False</td>\n",
       "      <td>False</td>\n",
       "      <td>False</td>\n",
       "      <td>False</td>\n",
       "      <td>False</td>\n",
       "      <td>False</td>\n",
       "      <td>False</td>\n",
       "      <td>False</td>\n",
       "      <td>False</td>\n",
       "      <td>True</td>\n",
       "      <td>True</td>\n",
       "      <td>True</td>\n",
       "      <td>False</td>\n",
       "    </tr>\n",
       "    <tr>\n",
       "      <th>1</th>\n",
       "      <td>False</td>\n",
       "      <td>False</td>\n",
       "      <td>False</td>\n",
       "      <td>False</td>\n",
       "      <td>False</td>\n",
       "      <td>False</td>\n",
       "      <td>False</td>\n",
       "      <td>False</td>\n",
       "      <td>False</td>\n",
       "      <td>False</td>\n",
       "      <td>True</td>\n",
       "      <td>True</td>\n",
       "      <td>True</td>\n",
       "      <td>False</td>\n",
       "    </tr>\n",
       "    <tr>\n",
       "      <th>2</th>\n",
       "      <td>False</td>\n",
       "      <td>False</td>\n",
       "      <td>False</td>\n",
       "      <td>False</td>\n",
       "      <td>True</td>\n",
       "      <td>False</td>\n",
       "      <td>False</td>\n",
       "      <td>False</td>\n",
       "      <td>False</td>\n",
       "      <td>False</td>\n",
       "      <td>True</td>\n",
       "      <td>True</td>\n",
       "      <td>True</td>\n",
       "      <td>False</td>\n",
       "    </tr>\n",
       "    <tr>\n",
       "      <th>3</th>\n",
       "      <td>False</td>\n",
       "      <td>False</td>\n",
       "      <td>False</td>\n",
       "      <td>False</td>\n",
       "      <td>False</td>\n",
       "      <td>False</td>\n",
       "      <td>False</td>\n",
       "      <td>False</td>\n",
       "      <td>False</td>\n",
       "      <td>False</td>\n",
       "      <td>True</td>\n",
       "      <td>True</td>\n",
       "      <td>False</td>\n",
       "      <td>False</td>\n",
       "    </tr>\n",
       "    <tr>\n",
       "      <th>4</th>\n",
       "      <td>False</td>\n",
       "      <td>False</td>\n",
       "      <td>False</td>\n",
       "      <td>False</td>\n",
       "      <td>False</td>\n",
       "      <td>False</td>\n",
       "      <td>False</td>\n",
       "      <td>False</td>\n",
       "      <td>False</td>\n",
       "      <td>False</td>\n",
       "      <td>True</td>\n",
       "      <td>True</td>\n",
       "      <td>True</td>\n",
       "      <td>False</td>\n",
       "    </tr>\n",
       "    <tr>\n",
       "      <th>...</th>\n",
       "      <td>...</td>\n",
       "      <td>...</td>\n",
       "      <td>...</td>\n",
       "      <td>...</td>\n",
       "      <td>...</td>\n",
       "      <td>...</td>\n",
       "      <td>...</td>\n",
       "      <td>...</td>\n",
       "      <td>...</td>\n",
       "      <td>...</td>\n",
       "      <td>...</td>\n",
       "      <td>...</td>\n",
       "      <td>...</td>\n",
       "      <td>...</td>\n",
       "    </tr>\n",
       "    <tr>\n",
       "      <th>289</th>\n",
       "      <td>False</td>\n",
       "      <td>False</td>\n",
       "      <td>False</td>\n",
       "      <td>False</td>\n",
       "      <td>False</td>\n",
       "      <td>False</td>\n",
       "      <td>False</td>\n",
       "      <td>False</td>\n",
       "      <td>False</td>\n",
       "      <td>False</td>\n",
       "      <td>True</td>\n",
       "      <td>True</td>\n",
       "      <td>True</td>\n",
       "      <td>False</td>\n",
       "    </tr>\n",
       "    <tr>\n",
       "      <th>290</th>\n",
       "      <td>False</td>\n",
       "      <td>False</td>\n",
       "      <td>False</td>\n",
       "      <td>False</td>\n",
       "      <td>False</td>\n",
       "      <td>False</td>\n",
       "      <td>False</td>\n",
       "      <td>False</td>\n",
       "      <td>False</td>\n",
       "      <td>False</td>\n",
       "      <td>False</td>\n",
       "      <td>True</td>\n",
       "      <td>True</td>\n",
       "      <td>False</td>\n",
       "    </tr>\n",
       "    <tr>\n",
       "      <th>291</th>\n",
       "      <td>False</td>\n",
       "      <td>False</td>\n",
       "      <td>False</td>\n",
       "      <td>False</td>\n",
       "      <td>False</td>\n",
       "      <td>False</td>\n",
       "      <td>False</td>\n",
       "      <td>False</td>\n",
       "      <td>False</td>\n",
       "      <td>False</td>\n",
       "      <td>False</td>\n",
       "      <td>True</td>\n",
       "      <td>True</td>\n",
       "      <td>False</td>\n",
       "    </tr>\n",
       "    <tr>\n",
       "      <th>292</th>\n",
       "      <td>False</td>\n",
       "      <td>False</td>\n",
       "      <td>False</td>\n",
       "      <td>False</td>\n",
       "      <td>False</td>\n",
       "      <td>False</td>\n",
       "      <td>False</td>\n",
       "      <td>False</td>\n",
       "      <td>False</td>\n",
       "      <td>False</td>\n",
       "      <td>False</td>\n",
       "      <td>True</td>\n",
       "      <td>False</td>\n",
       "      <td>False</td>\n",
       "    </tr>\n",
       "    <tr>\n",
       "      <th>293</th>\n",
       "      <td>False</td>\n",
       "      <td>False</td>\n",
       "      <td>False</td>\n",
       "      <td>False</td>\n",
       "      <td>False</td>\n",
       "      <td>False</td>\n",
       "      <td>False</td>\n",
       "      <td>False</td>\n",
       "      <td>False</td>\n",
       "      <td>False</td>\n",
       "      <td>False</td>\n",
       "      <td>True</td>\n",
       "      <td>True</td>\n",
       "      <td>False</td>\n",
       "    </tr>\n",
       "  </tbody>\n",
       "</table>\n",
       "<p>294 rows × 14 columns</p>\n",
       "</div>"
      ],
      "text/plain": [
       "       age    sex     cp  trestbps   chol    fbs  restecg  thalach  exang  \\\n",
       "0    False  False  False     False  False  False    False    False  False   \n",
       "1    False  False  False     False  False  False    False    False  False   \n",
       "2    False  False  False     False   True  False    False    False  False   \n",
       "3    False  False  False     False  False  False    False    False  False   \n",
       "4    False  False  False     False  False  False    False    False  False   \n",
       "..     ...    ...    ...       ...    ...    ...      ...      ...    ...   \n",
       "289  False  False  False     False  False  False    False    False  False   \n",
       "290  False  False  False     False  False  False    False    False  False   \n",
       "291  False  False  False     False  False  False    False    False  False   \n",
       "292  False  False  False     False  False  False    False    False  False   \n",
       "293  False  False  False     False  False  False    False    False  False   \n",
       "\n",
       "     oldpeak  slope    ca   thal    num  \n",
       "0      False   True  True   True  False  \n",
       "1      False   True  True   True  False  \n",
       "2      False   True  True   True  False  \n",
       "3      False   True  True  False  False  \n",
       "4      False   True  True   True  False  \n",
       "..       ...    ...   ...    ...    ...  \n",
       "289    False   True  True   True  False  \n",
       "290    False  False  True   True  False  \n",
       "291    False  False  True   True  False  \n",
       "292    False  False  True  False  False  \n",
       "293    False  False  True   True  False  \n",
       "\n",
       "[294 rows x 14 columns]"
      ]
     },
     "execution_count": 7,
     "metadata": {},
     "output_type": "execute_result"
    }
   ],
   "source": [
    "df.isnull()"
   ]
  },
  {
   "cell_type": "code",
   "execution_count": 8,
   "metadata": {},
   "outputs": [
    {
     "data": {
      "text/plain": [
       "age           0\n",
       "sex           0\n",
       "cp            0\n",
       "trestbps      1\n",
       "chol         23\n",
       "fbs           8\n",
       "restecg       1\n",
       "thalach       1\n",
       "exang         1\n",
       "oldpeak       0\n",
       "slope       190\n",
       "ca          291\n",
       "thal        266\n",
       "num           0\n",
       "dtype: int64"
      ]
     },
     "execution_count": 8,
     "metadata": {},
     "output_type": "execute_result"
    }
   ],
   "source": [
    "#count the NaN in each column individually.Calling sum() of DataFrame returned by isnull will give a series containing\n",
    "#data about count of NaN in each column\n",
    "df.isnull().sum()"
   ]
  },
  {
   "cell_type": "code",
   "execution_count": 9,
   "metadata": {},
   "outputs": [
    {
     "data": {
      "text/html": [
       "<div>\n",
       "<style scoped>\n",
       "    .dataframe tbody tr th:only-of-type {\n",
       "        vertical-align: middle;\n",
       "    }\n",
       "\n",
       "    .dataframe tbody tr th {\n",
       "        vertical-align: top;\n",
       "    }\n",
       "\n",
       "    .dataframe thead th {\n",
       "        text-align: right;\n",
       "    }\n",
       "</style>\n",
       "<table border=\"1\" class=\"dataframe\">\n",
       "  <thead>\n",
       "    <tr style=\"text-align: right;\">\n",
       "      <th></th>\n",
       "      <th>age</th>\n",
       "      <th>sex</th>\n",
       "      <th>cp</th>\n",
       "      <th>trestbps</th>\n",
       "      <th>chol</th>\n",
       "      <th>fbs</th>\n",
       "      <th>restecg</th>\n",
       "      <th>thalach</th>\n",
       "      <th>exang</th>\n",
       "      <th>oldpeak</th>\n",
       "      <th>slope</th>\n",
       "      <th>ca</th>\n",
       "      <th>thal</th>\n",
       "      <th>num</th>\n",
       "    </tr>\n",
       "  </thead>\n",
       "  <tbody>\n",
       "    <tr>\n",
       "      <th>0</th>\n",
       "      <td>28</td>\n",
       "      <td>1</td>\n",
       "      <td>2</td>\n",
       "      <td>130.0</td>\n",
       "      <td>132.0</td>\n",
       "      <td>0.0</td>\n",
       "      <td>2.0</td>\n",
       "      <td>185.0</td>\n",
       "      <td>0.0</td>\n",
       "      <td>0.0</td>\n",
       "      <td>NaN</td>\n",
       "      <td>NaN</td>\n",
       "      <td>NaN</td>\n",
       "      <td>0</td>\n",
       "    </tr>\n",
       "    <tr>\n",
       "      <th>1</th>\n",
       "      <td>29</td>\n",
       "      <td>1</td>\n",
       "      <td>2</td>\n",
       "      <td>120.0</td>\n",
       "      <td>243.0</td>\n",
       "      <td>0.0</td>\n",
       "      <td>0.0</td>\n",
       "      <td>160.0</td>\n",
       "      <td>0.0</td>\n",
       "      <td>0.0</td>\n",
       "      <td>NaN</td>\n",
       "      <td>NaN</td>\n",
       "      <td>NaN</td>\n",
       "      <td>0</td>\n",
       "    </tr>\n",
       "    <tr>\n",
       "      <th>2</th>\n",
       "      <td>29</td>\n",
       "      <td>1</td>\n",
       "      <td>2</td>\n",
       "      <td>140.0</td>\n",
       "      <td>243.0</td>\n",
       "      <td>0.0</td>\n",
       "      <td>0.0</td>\n",
       "      <td>170.0</td>\n",
       "      <td>0.0</td>\n",
       "      <td>0.0</td>\n",
       "      <td>NaN</td>\n",
       "      <td>NaN</td>\n",
       "      <td>NaN</td>\n",
       "      <td>0</td>\n",
       "    </tr>\n",
       "    <tr>\n",
       "      <th>3</th>\n",
       "      <td>30</td>\n",
       "      <td>0</td>\n",
       "      <td>1</td>\n",
       "      <td>170.0</td>\n",
       "      <td>237.0</td>\n",
       "      <td>0.0</td>\n",
       "      <td>1.0</td>\n",
       "      <td>170.0</td>\n",
       "      <td>0.0</td>\n",
       "      <td>0.0</td>\n",
       "      <td>NaN</td>\n",
       "      <td>NaN</td>\n",
       "      <td>6.0</td>\n",
       "      <td>0</td>\n",
       "    </tr>\n",
       "    <tr>\n",
       "      <th>4</th>\n",
       "      <td>31</td>\n",
       "      <td>0</td>\n",
       "      <td>2</td>\n",
       "      <td>100.0</td>\n",
       "      <td>219.0</td>\n",
       "      <td>0.0</td>\n",
       "      <td>1.0</td>\n",
       "      <td>150.0</td>\n",
       "      <td>0.0</td>\n",
       "      <td>0.0</td>\n",
       "      <td>NaN</td>\n",
       "      <td>NaN</td>\n",
       "      <td>NaN</td>\n",
       "      <td>0</td>\n",
       "    </tr>\n",
       "    <tr>\n",
       "      <th>...</th>\n",
       "      <td>...</td>\n",
       "      <td>...</td>\n",
       "      <td>...</td>\n",
       "      <td>...</td>\n",
       "      <td>...</td>\n",
       "      <td>...</td>\n",
       "      <td>...</td>\n",
       "      <td>...</td>\n",
       "      <td>...</td>\n",
       "      <td>...</td>\n",
       "      <td>...</td>\n",
       "      <td>...</td>\n",
       "      <td>...</td>\n",
       "      <td>...</td>\n",
       "    </tr>\n",
       "    <tr>\n",
       "      <th>289</th>\n",
       "      <td>52</td>\n",
       "      <td>1</td>\n",
       "      <td>4</td>\n",
       "      <td>160.0</td>\n",
       "      <td>331.0</td>\n",
       "      <td>0.0</td>\n",
       "      <td>0.0</td>\n",
       "      <td>94.0</td>\n",
       "      <td>1.0</td>\n",
       "      <td>2.5</td>\n",
       "      <td>NaN</td>\n",
       "      <td>NaN</td>\n",
       "      <td>NaN</td>\n",
       "      <td>1</td>\n",
       "    </tr>\n",
       "    <tr>\n",
       "      <th>290</th>\n",
       "      <td>54</td>\n",
       "      <td>0</td>\n",
       "      <td>3</td>\n",
       "      <td>130.0</td>\n",
       "      <td>294.0</td>\n",
       "      <td>0.0</td>\n",
       "      <td>1.0</td>\n",
       "      <td>100.0</td>\n",
       "      <td>1.0</td>\n",
       "      <td>0.0</td>\n",
       "      <td>2.0</td>\n",
       "      <td>NaN</td>\n",
       "      <td>NaN</td>\n",
       "      <td>1</td>\n",
       "    </tr>\n",
       "    <tr>\n",
       "      <th>291</th>\n",
       "      <td>56</td>\n",
       "      <td>1</td>\n",
       "      <td>4</td>\n",
       "      <td>155.0</td>\n",
       "      <td>342.0</td>\n",
       "      <td>1.0</td>\n",
       "      <td>0.0</td>\n",
       "      <td>150.0</td>\n",
       "      <td>1.0</td>\n",
       "      <td>3.0</td>\n",
       "      <td>2.0</td>\n",
       "      <td>NaN</td>\n",
       "      <td>NaN</td>\n",
       "      <td>1</td>\n",
       "    </tr>\n",
       "    <tr>\n",
       "      <th>292</th>\n",
       "      <td>58</td>\n",
       "      <td>0</td>\n",
       "      <td>2</td>\n",
       "      <td>180.0</td>\n",
       "      <td>393.0</td>\n",
       "      <td>0.0</td>\n",
       "      <td>0.0</td>\n",
       "      <td>110.0</td>\n",
       "      <td>1.0</td>\n",
       "      <td>1.0</td>\n",
       "      <td>2.0</td>\n",
       "      <td>NaN</td>\n",
       "      <td>7.0</td>\n",
       "      <td>1</td>\n",
       "    </tr>\n",
       "    <tr>\n",
       "      <th>293</th>\n",
       "      <td>65</td>\n",
       "      <td>1</td>\n",
       "      <td>4</td>\n",
       "      <td>130.0</td>\n",
       "      <td>275.0</td>\n",
       "      <td>0.0</td>\n",
       "      <td>1.0</td>\n",
       "      <td>115.0</td>\n",
       "      <td>1.0</td>\n",
       "      <td>1.0</td>\n",
       "      <td>2.0</td>\n",
       "      <td>NaN</td>\n",
       "      <td>NaN</td>\n",
       "      <td>1</td>\n",
       "    </tr>\n",
       "  </tbody>\n",
       "</table>\n",
       "<p>294 rows × 14 columns</p>\n",
       "</div>"
      ],
      "text/plain": [
       "     age  sex  cp  trestbps   chol  fbs  restecg  thalach  exang  oldpeak  \\\n",
       "0     28    1   2     130.0  132.0  0.0      2.0    185.0    0.0      0.0   \n",
       "1     29    1   2     120.0  243.0  0.0      0.0    160.0    0.0      0.0   \n",
       "2     29    1   2     140.0  243.0  0.0      0.0    170.0    0.0      0.0   \n",
       "3     30    0   1     170.0  237.0  0.0      1.0    170.0    0.0      0.0   \n",
       "4     31    0   2     100.0  219.0  0.0      1.0    150.0    0.0      0.0   \n",
       "..   ...  ...  ..       ...    ...  ...      ...      ...    ...      ...   \n",
       "289   52    1   4     160.0  331.0  0.0      0.0     94.0    1.0      2.5   \n",
       "290   54    0   3     130.0  294.0  0.0      1.0    100.0    1.0      0.0   \n",
       "291   56    1   4     155.0  342.0  1.0      0.0    150.0    1.0      3.0   \n",
       "292   58    0   2     180.0  393.0  0.0      0.0    110.0    1.0      1.0   \n",
       "293   65    1   4     130.0  275.0  0.0      1.0    115.0    1.0      1.0   \n",
       "\n",
       "     slope  ca  thal  num  \n",
       "0      NaN NaN   NaN    0  \n",
       "1      NaN NaN   NaN    0  \n",
       "2      NaN NaN   NaN    0  \n",
       "3      NaN NaN   6.0    0  \n",
       "4      NaN NaN   NaN    0  \n",
       "..     ...  ..   ...  ...  \n",
       "289    NaN NaN   NaN    1  \n",
       "290    2.0 NaN   NaN    1  \n",
       "291    2.0 NaN   NaN    1  \n",
       "292    2.0 NaN   7.0    1  \n",
       "293    2.0 NaN   NaN    1  \n",
       "\n",
       "[294 rows x 14 columns]"
      ]
     },
     "execution_count": 9,
     "metadata": {},
     "output_type": "execute_result"
    }
   ],
   "source": [
    "df['trestbps'].fillna(df['trestbps'].median(),inplace=True)\n",
    "df['restecg'].fillna(df['restecg'].median(),inplace=True)\n",
    "df['thalach'].fillna(df['thalach'].median(),inplace=True)\n",
    "df['exang'].fillna(df['exang'].median(),inplace=True)\n",
    "df['chol'].fillna(df['chol'].median(),inplace=True)\n",
    "df['fbs'].fillna(df['fbs'].median(),inplace=True)\n",
    "#df['slope'].fillna(df['slope'].median(),inplace=True)\n",
    "df"
   ]
  },
  {
   "cell_type": "code",
   "execution_count": 10,
   "metadata": {},
   "outputs": [
    {
     "data": {
      "text/plain": [
       "age           0\n",
       "sex           0\n",
       "cp            0\n",
       "trestbps      0\n",
       "chol          0\n",
       "fbs           0\n",
       "restecg       0\n",
       "thalach       0\n",
       "exang         0\n",
       "oldpeak       0\n",
       "slope       190\n",
       "ca          291\n",
       "thal        266\n",
       "num           0\n",
       "dtype: int64"
      ]
     },
     "execution_count": 10,
     "metadata": {},
     "output_type": "execute_result"
    }
   ],
   "source": [
    "df.isnull().sum()"
   ]
  },
  {
   "cell_type": "code",
   "execution_count": 11,
   "metadata": {},
   "outputs": [],
   "source": [
    "df.drop(columns=['ca','slope','thal'],inplace=True)\n"
   ]
  },
  {
   "cell_type": "code",
   "execution_count": 12,
   "metadata": {},
   "outputs": [
    {
     "name": "stdout",
     "output_type": "stream",
     "text": [
      "==============================\n",
      "age : [28 29 30 31 32 33 34 35 36 37 38 39 40 41 42 43 44 45 46 47 48 49 50 51\n",
      " 52 53 54 55 56 57 58 59 60 61 62 63 65 66]\n",
      "==============================\n",
      "sex : [1 0]\n",
      "==============================\n",
      "cp : [2 1 3 4]\n",
      "==============================\n",
      "trestbps : [130. 120. 140. 170. 100. 105. 110. 125. 150.  98. 112. 145. 190. 160.\n",
      " 115. 142. 180. 132. 135. 108. 124. 113. 122.  92. 118. 106. 200. 138.\n",
      " 136. 128. 155.]\n",
      "==============================\n",
      "chol : [132. 243. 237. 219. 198. 225. 254. 298. 161. 214. 220. 160. 167. 308.\n",
      " 264. 166. 340. 209. 260. 211. 173. 283. 194. 223. 315. 275. 297. 292.\n",
      " 182. 200. 204. 241. 339. 147. 273. 307. 289. 215. 281. 250. 184. 245.\n",
      " 291. 295. 269. 196. 268. 228. 358. 201. 249. 266. 186. 207. 218. 412.\n",
      " 224. 238. 230. 163. 240. 280. 257. 263. 276. 284. 195. 227. 253. 187.\n",
      " 202. 328. 168. 216. 129. 190. 188. 179. 210. 272. 180. 100. 259. 468.\n",
      " 274. 320. 221. 309. 312. 171. 208. 246. 305. 217. 365. 344. 394. 256.\n",
      " 326. 277. 270. 229.  85. 347. 251. 222. 287. 318. 213. 294. 193. 271.\n",
      " 156. 267. 282. 117. 466. 247. 226. 265. 206. 288. 303. 338. 248. 306.\n",
      " 529. 392. 231. 329. 355. 233. 242. 603. 255. 172. 175. 290. 341. 234.\n",
      " 342. 404. 518. 285. 279. 388. 164. 336. 491. 205. 212. 331. 393.]\n",
      "==============================\n",
      "fbs : [0. 1.]\n",
      "==============================\n",
      "restecg : [2. 0. 1.]\n",
      "==============================\n",
      "thalach : [185. 160. 170. 150. 165. 184. 155. 190. 168. 180. 178. 172. 130. 142.\n",
      "  98. 158. 129. 146. 145. 120. 106. 132. 140. 138. 167. 188. 144. 137.\n",
      " 136. 152. 175. 176. 118. 154. 115. 135. 122. 110.  90. 116. 174. 125.\n",
      " 148. 100. 164. 139. 127. 162. 112. 134. 114. 128. 126. 124. 153. 166.\n",
      " 103. 156.  87. 102.  92.  99. 121.  91. 108.  96.  82. 105. 143. 119.\n",
      "  94.]\n",
      "==============================\n",
      "exang : [0. 1.]\n",
      "==============================\n",
      "oldpeak : [0.  1.  2.  1.5 0.5 3.  0.8 2.5 4.  5. ]\n",
      "==============================\n",
      "num : [0 1]\n"
     ]
    }
   ],
   "source": [
    "# Creating Lists of Continuous and Categorical Values\n",
    "categorical_val = []\n",
    "continous_val = []\n",
    "for column in df.columns:\n",
    "    print('==============================')\n",
    "    print(f\"{column} : {df[column].unique()}\")\n",
    "    if len(df[column].unique()) <= 10:\n",
    "        categorical_val.append(column)\n",
    "    else:\n",
    "        continous_val.append(column)"
   ]
  },
  {
   "cell_type": "code",
   "execution_count": 13,
   "metadata": {},
   "outputs": [
    {
     "data": {
      "text/plain": [
       "['sex', 'cp', 'fbs', 'restecg', 'exang', 'oldpeak', 'num']"
      ]
     },
     "execution_count": 13,
     "metadata": {},
     "output_type": "execute_result"
    }
   ],
   "source": [
    "# Printing all categorical values\n",
    "categorical_val"
   ]
  },
  {
   "cell_type": "code",
   "execution_count": 14,
   "metadata": {},
   "outputs": [
    {
     "data": {
      "text/plain": [
       "(294, 11)"
      ]
     },
     "execution_count": 14,
     "metadata": {},
     "output_type": "execute_result"
    }
   ],
   "source": [
    "df.shape"
   ]
  },
  {
   "cell_type": "code",
   "execution_count": 15,
   "metadata": {},
   "outputs": [
    {
     "data": {
      "text/html": [
       "<div>\n",
       "<style scoped>\n",
       "    .dataframe tbody tr th:only-of-type {\n",
       "        vertical-align: middle;\n",
       "    }\n",
       "\n",
       "    .dataframe tbody tr th {\n",
       "        vertical-align: top;\n",
       "    }\n",
       "\n",
       "    .dataframe thead th {\n",
       "        text-align: right;\n",
       "    }\n",
       "</style>\n",
       "<table border=\"1\" class=\"dataframe\">\n",
       "  <thead>\n",
       "    <tr style=\"text-align: right;\">\n",
       "      <th></th>\n",
       "      <th>age</th>\n",
       "      <th>sex</th>\n",
       "      <th>cp</th>\n",
       "      <th>trestbps</th>\n",
       "      <th>chol</th>\n",
       "      <th>fbs</th>\n",
       "      <th>restecg</th>\n",
       "      <th>thalach</th>\n",
       "      <th>exang</th>\n",
       "      <th>oldpeak</th>\n",
       "      <th>num</th>\n",
       "    </tr>\n",
       "  </thead>\n",
       "  <tbody>\n",
       "    <tr>\n",
       "      <th>count</th>\n",
       "      <td>294.000000</td>\n",
       "      <td>294.000000</td>\n",
       "      <td>294.000000</td>\n",
       "      <td>294.000000</td>\n",
       "      <td>294.000000</td>\n",
       "      <td>294.000000</td>\n",
       "      <td>294.000000</td>\n",
       "      <td>294.000000</td>\n",
       "      <td>294.000000</td>\n",
       "      <td>294.000000</td>\n",
       "      <td>294.000000</td>\n",
       "    </tr>\n",
       "    <tr>\n",
       "      <th>mean</th>\n",
       "      <td>47.826531</td>\n",
       "      <td>0.724490</td>\n",
       "      <td>2.982993</td>\n",
       "      <td>132.574830</td>\n",
       "      <td>250.234694</td>\n",
       "      <td>0.068027</td>\n",
       "      <td>0.217687</td>\n",
       "      <td>139.132653</td>\n",
       "      <td>0.302721</td>\n",
       "      <td>0.586054</td>\n",
       "      <td>0.360544</td>\n",
       "    </tr>\n",
       "    <tr>\n",
       "      <th>std</th>\n",
       "      <td>7.811812</td>\n",
       "      <td>0.447533</td>\n",
       "      <td>0.965117</td>\n",
       "      <td>17.597108</td>\n",
       "      <td>64.982245</td>\n",
       "      <td>0.252222</td>\n",
       "      <td>0.460257</td>\n",
       "      <td>23.549514</td>\n",
       "      <td>0.460219</td>\n",
       "      <td>0.908648</td>\n",
       "      <td>0.480977</td>\n",
       "    </tr>\n",
       "    <tr>\n",
       "      <th>min</th>\n",
       "      <td>28.000000</td>\n",
       "      <td>0.000000</td>\n",
       "      <td>1.000000</td>\n",
       "      <td>92.000000</td>\n",
       "      <td>85.000000</td>\n",
       "      <td>0.000000</td>\n",
       "      <td>0.000000</td>\n",
       "      <td>82.000000</td>\n",
       "      <td>0.000000</td>\n",
       "      <td>0.000000</td>\n",
       "      <td>0.000000</td>\n",
       "    </tr>\n",
       "    <tr>\n",
       "      <th>25%</th>\n",
       "      <td>42.000000</td>\n",
       "      <td>0.000000</td>\n",
       "      <td>2.000000</td>\n",
       "      <td>120.000000</td>\n",
       "      <td>211.250000</td>\n",
       "      <td>0.000000</td>\n",
       "      <td>0.000000</td>\n",
       "      <td>122.000000</td>\n",
       "      <td>0.000000</td>\n",
       "      <td>0.000000</td>\n",
       "      <td>0.000000</td>\n",
       "    </tr>\n",
       "    <tr>\n",
       "      <th>50%</th>\n",
       "      <td>49.000000</td>\n",
       "      <td>1.000000</td>\n",
       "      <td>3.000000</td>\n",
       "      <td>130.000000</td>\n",
       "      <td>243.000000</td>\n",
       "      <td>0.000000</td>\n",
       "      <td>0.000000</td>\n",
       "      <td>140.000000</td>\n",
       "      <td>0.000000</td>\n",
       "      <td>0.000000</td>\n",
       "      <td>0.000000</td>\n",
       "    </tr>\n",
       "    <tr>\n",
       "      <th>75%</th>\n",
       "      <td>54.000000</td>\n",
       "      <td>1.000000</td>\n",
       "      <td>4.000000</td>\n",
       "      <td>140.000000</td>\n",
       "      <td>277.000000</td>\n",
       "      <td>0.000000</td>\n",
       "      <td>0.000000</td>\n",
       "      <td>155.000000</td>\n",
       "      <td>1.000000</td>\n",
       "      <td>1.000000</td>\n",
       "      <td>1.000000</td>\n",
       "    </tr>\n",
       "    <tr>\n",
       "      <th>max</th>\n",
       "      <td>66.000000</td>\n",
       "      <td>1.000000</td>\n",
       "      <td>4.000000</td>\n",
       "      <td>200.000000</td>\n",
       "      <td>603.000000</td>\n",
       "      <td>1.000000</td>\n",
       "      <td>2.000000</td>\n",
       "      <td>190.000000</td>\n",
       "      <td>1.000000</td>\n",
       "      <td>5.000000</td>\n",
       "      <td>1.000000</td>\n",
       "    </tr>\n",
       "  </tbody>\n",
       "</table>\n",
       "</div>"
      ],
      "text/plain": [
       "              age         sex          cp    trestbps        chol         fbs  \\\n",
       "count  294.000000  294.000000  294.000000  294.000000  294.000000  294.000000   \n",
       "mean    47.826531    0.724490    2.982993  132.574830  250.234694    0.068027   \n",
       "std      7.811812    0.447533    0.965117   17.597108   64.982245    0.252222   \n",
       "min     28.000000    0.000000    1.000000   92.000000   85.000000    0.000000   \n",
       "25%     42.000000    0.000000    2.000000  120.000000  211.250000    0.000000   \n",
       "50%     49.000000    1.000000    3.000000  130.000000  243.000000    0.000000   \n",
       "75%     54.000000    1.000000    4.000000  140.000000  277.000000    0.000000   \n",
       "max     66.000000    1.000000    4.000000  200.000000  603.000000    1.000000   \n",
       "\n",
       "          restecg     thalach       exang     oldpeak         num  \n",
       "count  294.000000  294.000000  294.000000  294.000000  294.000000  \n",
       "mean     0.217687  139.132653    0.302721    0.586054    0.360544  \n",
       "std      0.460257   23.549514    0.460219    0.908648    0.480977  \n",
       "min      0.000000   82.000000    0.000000    0.000000    0.000000  \n",
       "25%      0.000000  122.000000    0.000000    0.000000    0.000000  \n",
       "50%      0.000000  140.000000    0.000000    0.000000    0.000000  \n",
       "75%      0.000000  155.000000    1.000000    1.000000    1.000000  \n",
       "max      2.000000  190.000000    1.000000    5.000000    1.000000  "
      ]
     },
     "execution_count": 15,
     "metadata": {},
     "output_type": "execute_result"
    }
   ],
   "source": [
    "df.describe()\n"
   ]
  },
  {
   "cell_type": "markdown",
   "metadata": {},
   "source": [
    "Now it seems that our dataframe is complete and no null values"
   ]
  },
  {
   "cell_type": "markdown",
   "metadata": {},
   "source": [
    "### Histogram Plot of features"
   ]
  },
  {
   "cell_type": "code",
   "execution_count": 16,
   "metadata": {},
   "outputs": [
    {
     "data": {
      "image/png": "[encoded data removed]",
      "text/plain": [
       "<Figure size 1080x1080 with 12 Axes>"
      ]
     },
     "metadata": {
      "needs_background": "light"
     },
     "output_type": "display_data"
    }
   ],
   "source": [
    "%matplotlib inline\n",
    "plt.rcParams['figure.figsize']=[15,15]\n",
    "df.hist()\n",
    "plt.show()"
   ]
  },
  {
   "cell_type": "markdown",
   "metadata": {},
   "source": [
    "### Density Plot"
   ]
  },
  {
   "cell_type": "code",
   "execution_count": 17,
   "metadata": {},
   "outputs": [
    {
     "data": {
      "image/png": "[encoded data removed]",
      "text/plain": [
       "<Figure size 1080x1080 with 36 Axes>"
      ]
     },
     "metadata": {
      "needs_background": "light"
     },
     "output_type": "display_data"
    }
   ],
   "source": [
    "plt.rcParams['figure.figsize']=[15,15]\n",
    "df.plot(kind='density', subplots=True, layout=(6,6), sharex=False, legend=False, fontsize=1)\n",
    "\n",
    "plt.show()"
   ]
  },
  {
   "cell_type": "markdown",
   "metadata": {},
   "source": [
    "## Correlation "
   ]
  },
  {
   "cell_type": "code",
   "execution_count": 18,
   "metadata": {},
   "outputs": [
    {
     "data": {
      "text/html": [
       "<div>\n",
       "<style scoped>\n",
       "    .dataframe tbody tr th:only-of-type {\n",
       "        vertical-align: middle;\n",
       "    }\n",
       "\n",
       "    .dataframe tbody tr th {\n",
       "        vertical-align: top;\n",
       "    }\n",
       "\n",
       "    .dataframe thead th {\n",
       "        text-align: right;\n",
       "    }\n",
       "</style>\n",
       "<table border=\"1\" class=\"dataframe\">\n",
       "  <thead>\n",
       "    <tr style=\"text-align: right;\">\n",
       "      <th></th>\n",
       "      <th>age</th>\n",
       "      <th>sex</th>\n",
       "      <th>cp</th>\n",
       "      <th>trestbps</th>\n",
       "      <th>chol</th>\n",
       "      <th>fbs</th>\n",
       "      <th>restecg</th>\n",
       "      <th>thalach</th>\n",
       "      <th>exang</th>\n",
       "      <th>oldpeak</th>\n",
       "      <th>num</th>\n",
       "    </tr>\n",
       "  </thead>\n",
       "  <tbody>\n",
       "    <tr>\n",
       "      <th>age</th>\n",
       "      <td>1.000000</td>\n",
       "      <td>0.013618</td>\n",
       "      <td>0.145826</td>\n",
       "      <td>0.245183</td>\n",
       "      <td>0.086355</td>\n",
       "      <td>0.180962</td>\n",
       "      <td>0.050407</td>\n",
       "      <td>-0.459416</td>\n",
       "      <td>0.238698</td>\n",
       "      <td>0.177707</td>\n",
       "      <td>0.159315</td>\n",
       "    </tr>\n",
       "    <tr>\n",
       "      <th>sex</th>\n",
       "      <td>0.013618</td>\n",
       "      <td>1.000000</td>\n",
       "      <td>0.249875</td>\n",
       "      <td>0.089519</td>\n",
       "      <td>0.028167</td>\n",
       "      <td>0.045663</td>\n",
       "      <td>-0.105503</td>\n",
       "      <td>-0.111482</td>\n",
       "      <td>0.157761</td>\n",
       "      <td>0.118931</td>\n",
       "      <td>0.272781</td>\n",
       "    </tr>\n",
       "    <tr>\n",
       "      <th>cp</th>\n",
       "      <td>0.145826</td>\n",
       "      <td>0.249875</td>\n",
       "      <td>1.000000</td>\n",
       "      <td>0.085986</td>\n",
       "      <td>0.135515</td>\n",
       "      <td>0.032810</td>\n",
       "      <td>-0.014687</td>\n",
       "      <td>-0.369909</td>\n",
       "      <td>0.495723</td>\n",
       "      <td>0.353109</td>\n",
       "      <td>0.505864</td>\n",
       "    </tr>\n",
       "    <tr>\n",
       "      <th>trestbps</th>\n",
       "      <td>0.245183</td>\n",
       "      <td>0.089519</td>\n",
       "      <td>0.085986</td>\n",
       "      <td>1.000000</td>\n",
       "      <td>0.079408</td>\n",
       "      <td>0.097277</td>\n",
       "      <td>0.012309</td>\n",
       "      <td>-0.184973</td>\n",
       "      <td>0.214020</td>\n",
       "      <td>0.205201</td>\n",
       "      <td>0.139953</td>\n",
       "    </tr>\n",
       "    <tr>\n",
       "      <th>chol</th>\n",
       "      <td>0.086355</td>\n",
       "      <td>0.028167</td>\n",
       "      <td>0.135515</td>\n",
       "      <td>0.079408</td>\n",
       "      <td>1.000000</td>\n",
       "      <td>0.108554</td>\n",
       "      <td>0.050778</td>\n",
       "      <td>-0.121550</td>\n",
       "      <td>0.163551</td>\n",
       "      <td>0.109371</td>\n",
       "      <td>0.205087</td>\n",
       "    </tr>\n",
       "    <tr>\n",
       "      <th>fbs</th>\n",
       "      <td>0.180962</td>\n",
       "      <td>0.045663</td>\n",
       "      <td>0.032810</td>\n",
       "      <td>0.097277</td>\n",
       "      <td>0.108554</td>\n",
       "      <td>1.000000</td>\n",
       "      <td>0.048400</td>\n",
       "      <td>-0.070477</td>\n",
       "      <td>0.116010</td>\n",
       "      <td>0.063722</td>\n",
       "      <td>0.162869</td>\n",
       "    </tr>\n",
       "    <tr>\n",
       "      <th>restecg</th>\n",
       "      <td>0.050407</td>\n",
       "      <td>-0.105503</td>\n",
       "      <td>-0.014687</td>\n",
       "      <td>0.012309</td>\n",
       "      <td>0.050778</td>\n",
       "      <td>0.048400</td>\n",
       "      <td>1.000000</td>\n",
       "      <td>0.004884</td>\n",
       "      <td>0.042309</td>\n",
       "      <td>0.043192</td>\n",
       "      <td>-0.031988</td>\n",
       "    </tr>\n",
       "    <tr>\n",
       "      <th>thalach</th>\n",
       "      <td>-0.459416</td>\n",
       "      <td>-0.111482</td>\n",
       "      <td>-0.369909</td>\n",
       "      <td>-0.184973</td>\n",
       "      <td>-0.121550</td>\n",
       "      <td>-0.070477</td>\n",
       "      <td>0.004884</td>\n",
       "      <td>1.000000</td>\n",
       "      <td>-0.401764</td>\n",
       "      <td>-0.301572</td>\n",
       "      <td>-0.331168</td>\n",
       "    </tr>\n",
       "    <tr>\n",
       "      <th>exang</th>\n",
       "      <td>0.238698</td>\n",
       "      <td>0.157761</td>\n",
       "      <td>0.495723</td>\n",
       "      <td>0.214020</td>\n",
       "      <td>0.163551</td>\n",
       "      <td>0.116010</td>\n",
       "      <td>0.042309</td>\n",
       "      <td>-0.401764</td>\n",
       "      <td>1.000000</td>\n",
       "      <td>0.625510</td>\n",
       "      <td>0.584541</td>\n",
       "    </tr>\n",
       "    <tr>\n",
       "      <th>oldpeak</th>\n",
       "      <td>0.177707</td>\n",
       "      <td>0.118931</td>\n",
       "      <td>0.353109</td>\n",
       "      <td>0.205201</td>\n",
       "      <td>0.109371</td>\n",
       "      <td>0.063722</td>\n",
       "      <td>0.043192</td>\n",
       "      <td>-0.301572</td>\n",
       "      <td>0.625510</td>\n",
       "      <td>1.000000</td>\n",
       "      <td>0.545700</td>\n",
       "    </tr>\n",
       "    <tr>\n",
       "      <th>num</th>\n",
       "      <td>0.159315</td>\n",
       "      <td>0.272781</td>\n",
       "      <td>0.505864</td>\n",
       "      <td>0.139953</td>\n",
       "      <td>0.205087</td>\n",
       "      <td>0.162869</td>\n",
       "      <td>-0.031988</td>\n",
       "      <td>-0.331168</td>\n",
       "      <td>0.584541</td>\n",
       "      <td>0.545700</td>\n",
       "      <td>1.000000</td>\n",
       "    </tr>\n",
       "  </tbody>\n",
       "</table>\n",
       "</div>"
      ],
      "text/plain": [
       "               age       sex        cp  trestbps      chol       fbs  \\\n",
       "age       1.000000  0.013618  0.145826  0.245183  0.086355  0.180962   \n",
       "sex       0.013618  1.000000  0.249875  0.089519  0.028167  0.045663   \n",
       "cp        0.145826  0.249875  1.000000  0.085986  0.135515  0.032810   \n",
       "trestbps  0.245183  0.089519  0.085986  1.000000  0.079408  0.097277   \n",
       "chol      0.086355  0.028167  0.135515  0.079408  1.000000  0.108554   \n",
       "fbs       0.180962  0.045663  0.032810  0.097277  0.108554  1.000000   \n",
       "restecg   0.050407 -0.105503 -0.014687  0.012309  0.050778  0.048400   \n",
       "thalach  -0.459416 -0.111482 -0.369909 -0.184973 -0.121550 -0.070477   \n",
       "exang     0.238698  0.157761  0.495723  0.214020  0.163551  0.116010   \n",
       "oldpeak   0.177707  0.118931  0.353109  0.205201  0.109371  0.063722   \n",
       "num       0.159315  0.272781  0.505864  0.139953  0.205087  0.162869   \n",
       "\n",
       "           restecg   thalach     exang   oldpeak       num  \n",
       "age       0.050407 -0.459416  0.238698  0.177707  0.159315  \n",
       "sex      -0.105503 -0.111482  0.157761  0.118931  0.272781  \n",
       "cp       -0.014687 -0.369909  0.495723  0.353109  0.505864  \n",
       "trestbps  0.012309 -0.184973  0.214020  0.205201  0.139953  \n",
       "chol      0.050778 -0.121550  0.163551  0.109371  0.205087  \n",
       "fbs       0.048400 -0.070477  0.116010  0.063722  0.162869  \n",
       "restecg   1.000000  0.004884  0.042309  0.043192 -0.031988  \n",
       "thalach   0.004884  1.000000 -0.401764 -0.301572 -0.331168  \n",
       "exang     0.042309 -0.401764  1.000000  0.625510  0.584541  \n",
       "oldpeak   0.043192 -0.301572  0.625510  1.000000  0.545700  \n",
       "num      -0.031988 -0.331168  0.584541  0.545700  1.000000  "
      ]
     },
     "execution_count": 18,
     "metadata": {},
     "output_type": "execute_result"
    }
   ],
   "source": [
    "corr=df.corr()\n",
    "corr"
   ]
  },
  {
   "cell_type": "code",
   "execution_count": 19,
   "metadata": {},
   "outputs": [
    {
     "name": "stdout",
     "output_type": "stream",
     "text": [
      "Absolute of correlations \n",
      " [0.15931455732511296, 0.2727813388215424, 0.5058639682334106, 0.1399527091385206, 0.2050865550301643, 0.16286862099987282, 0.03198823969423465, 0.3311676708892531, 0.5845413626083458, 0.5457003935413585]\n",
      "List of pairs [(corr,features)]\n",
      " [(0.15931455732511296, 'age'), (0.2727813388215424, 'sex'), (0.5058639682334106, 'cp'), (0.1399527091385206, 'trestbps'), (0.2050865550301643, 'chol'), (0.16286862099987282, 'fbs'), (0.03198823969423465, 'restecg'), (0.3311676708892531, 'thalach'), (0.5845413626083458, 'exang'), (0.5457003935413585, 'oldpeak')]\n"
     ]
    }
   ],
   "source": [
    "#take absolute values of correalations\n",
    "features=df.drop(['num'], axis = 1)\n",
    "corrs=[abs(corr[attr]['num']) for attr in list(features)]\n",
    "#make a list of pairs [(corr, features)]\n",
    "l=list(zip(corrs,list(features)))\n",
    "print(\"Absolute of correlations \\n\",corrs)\n",
    "print(\"List of pairs [(corr,features)]\\n\",l)"
   ]
  },
  {
   "cell_type": "code",
   "execution_count": 20,
   "metadata": {},
   "outputs": [
    {
     "data": {
      "text/plain": [
       "[(0.5845413626083458, 'exang'),\n",
       " (0.5457003935413585, 'oldpeak'),\n",
       " (0.5058639682334106, 'cp'),\n",
       " (0.3311676708892531, 'thalach'),\n",
       " (0.2727813388215424, 'sex'),\n",
       " (0.2050865550301643, 'chol'),\n",
       " (0.16286862099987282, 'fbs'),\n",
       " (0.15931455732511296, 'age'),\n",
       " (0.1399527091385206, 'trestbps'),\n",
       " (0.03198823969423465, 'restecg')]"
      ]
     },
     "execution_count": 20,
     "metadata": {},
     "output_type": "execute_result"
    }
   ],
   "source": [
    "#Sort the list of pairs in reverse/descending order with correlation values as the key for sorting \n",
    "l.sort(key=lambda x: x[0], reverse=True)\n",
    "l"
   ]
  },
  {
   "cell_type": "code",
   "execution_count": 21,
   "metadata": {},
   "outputs": [
    {
     "name": "stdout",
     "output_type": "stream",
     "text": [
      "corrs = \n",
      " (0.5845413626083458, 0.5457003935413585, 0.5058639682334106, 0.3311676708892531, 0.2727813388215424, 0.2050865550301643, 0.16286862099987282, 0.15931455732511296, 0.1399527091385206, 0.03198823969423465) labels = \n",
      " ('exang', 'oldpeak', 'cp', 'thalach', 'sex', 'chol', 'fbs', 'age', 'trestbps', 'restecg')\n"
     ]
    }
   ],
   "source": [
    "#Unzip pairs of two lists\n",
    "#zip(*l) -  takes a list that looks like [[a,b,c],[d,e,f],[g,h,i]] and returnsa [[a,d,g],[b,e,h],[e,f,i]]\n",
    "corrs,labels=list(zip((*l)))\n",
    "print(\"corrs = \\n\",corrs,\"labels = \\n\",labels)"
   ]
  },
  {
   "cell_type": "markdown",
   "metadata": {},
   "source": [
    "### Bar graph of correlation values"
   ]
  },
  {
   "cell_type": "code",
   "execution_count": 22,
   "metadata": {},
   "outputs": [
    {
     "data": {
      "image/png": "[encoded data removed]",
      "text/plain": [
       "<Figure size 1080x360 with 1 Axes>"
      ]
     },
     "metadata": {
      "needs_background": "light"
     },
     "output_type": "display_data"
    }
   ],
   "source": [
    "#Plot correlations with respect to the target variables as a bar graph\n",
    "index=np.arange(len(labels))\n",
    "plt.figure(figsize=(15,5))\n",
    "plt.bar(index,corrs,width=0.5)\n",
    "plt.xlabel('Attributes')\n",
    "plt.ylabel('Correlation with target variable(num)')\n",
    "plt.xticks(index,labels)\n",
    "plt.show()"
   ]
  },
  {
   "cell_type": "markdown",
   "metadata": {},
   "source": [
    "From the Bar plot it is evident that restecg can be dropped as it has very low value for coefficient of correlation"
   ]
  },
  {
   "cell_type": "code",
   "execution_count": 23,
   "metadata": {},
   "outputs": [
    {
     "name": "stdout",
     "output_type": "stream",
     "text": [
      "num\n",
      "0    188\n",
      "1    106\n",
      "dtype: int64\n"
     ]
    }
   ],
   "source": [
    "print(df.groupby('num').size())"
   ]
  },
  {
   "cell_type": "markdown",
   "metadata": {},
   "source": [
    "# Splitting the Dataset"
   ]
  },
  {
   "cell_type": "code",
   "execution_count": 24,
   "metadata": {},
   "outputs": [],
   "source": [
    "y = df.num       .values\n",
    "x_data = df.drop(['num','restecg'], axis = 1) # Dropping 'restecg' as its correlation value is very low so insignificant "
   ]
  },
  {
   "cell_type": "markdown",
   "metadata": {},
   "source": [
    "### Normalization"
   ]
  },
  {
   "cell_type": "code",
   "execution_count": 25,
   "metadata": {},
   "outputs": [],
   "source": [
    "\n",
    "# Normalize\n",
    "x = (x_data - np.min(x_data)) / (np.max(x_data) - np.min(x_data)).values"
   ]
  },
  {
   "cell_type": "markdown",
   "metadata": {},
   "source": [
    "### Splitting into Training and Testing Dataset"
   ]
  },
  {
   "cell_type": "code",
   "execution_count": 26,
   "metadata": {},
   "outputs": [],
   "source": [
    "x_train, x_test, y_train, y_test = train_test_split(x,y,test_size = 0.2,random_state=0)"
   ]
  },
  {
   "cell_type": "code",
   "execution_count": 27,
   "metadata": {},
   "outputs": [],
   "source": [
    "#transpose matrices\n",
    "x_train = x_train.T\n",
    "y_train = y_train.T\n",
    "x_test = x_test.T\n",
    "y_test = y_test.T"
   ]
  },
  {
   "cell_type": "markdown",
   "metadata": {},
   "source": [
    "# Applying Machine Learning Algorithms"
   ]
  },
  {
   "cell_type": "markdown",
   "metadata": {},
   "source": [
    "## 1. Logistic Regression"
   ]
  },
  {
   "cell_type": "code",
   "execution_count": 28,
   "metadata": {},
   "outputs": [
    {
     "name": "stdout",
     "output_type": "stream",
     "text": [
      "Test Accuracy 83.05%\n"
     ]
    }
   ],
   "source": [
    "accuracies = {}\n",
    "\n",
    "lr = LogisticRegression()\n",
    "lr.fit(x_train.T,y_train.T)\n",
    "acc = lr.score(x_test.T,y_test.T)*100\n",
    "\n",
    "accuracies['Logistic Regression'] = acc\n",
    "print(\"Test Accuracy {:.2f}%\".format(acc))"
   ]
  },
  {
   "cell_type": "markdown",
   "metadata": {},
   "source": [
    "## 2. K Neighbors Classifier"
   ]
  },
  {
   "cell_type": "code",
   "execution_count": 29,
   "metadata": {},
   "outputs": [
    {
     "name": "stdout",
     "output_type": "stream",
     "text": [
      "2 NN Score: 84.75%\n"
     ]
    }
   ],
   "source": [
    "from sklearn.neighbors import KNeighborsClassifier\n",
    "knn = KNeighborsClassifier(n_neighbors = 3)  # n_neighbors means k\n",
    "knn.fit(x_train.T, y_train.T)\n",
    "prediction = knn.predict(x_test.T)\n",
    "\n",
    "print(\"{} NN Score: {:.2f}%\".format(2, knn.score(x_test.T, y_test.T)*100))"
   ]
  },
  {
   "cell_type": "code",
   "execution_count": 30,
   "metadata": {},
   "outputs": [
    {
     "data": {
      "image/png": "[encoded data removed]",
      "text/plain": [
       "<Figure size 720x360 with 1 Axes>"
      ]
     },
     "metadata": {
      "needs_background": "light"
     },
     "output_type": "display_data"
    },
    {
     "name": "stdout",
     "output_type": "stream",
     "text": [
      "Maximum KNN Score is 88.14%\n"
     ]
    }
   ],
   "source": [
    "# try ro find best k value\n",
    "scoreList = []\n",
    "for i in range(1,20):\n",
    "    knn2 = KNeighborsClassifier(n_neighbors = i)  # n_neighbors means k\n",
    "    knn2.fit(x_train.T, y_train.T)\n",
    "    scoreList.append(knn2.score(x_test.T, y_test.T))\n",
    "plt.rcParams['figure.figsize']=[10,5]    \n",
    "plt.plot(range(1,20), scoreList)\n",
    "plt.xticks(np.arange(1,20,1))\n",
    "plt.xlabel(\"K value\")\n",
    "plt.ylabel(\"Score\")\n",
    "plt.show()\n",
    "\n",
    "acc = max(scoreList)*100\n",
    "accuracies['KNN'] = acc\n",
    "print(\"Maximum KNN Score is {:.2f}%\".format(acc))"
   ]
  },
  {
   "cell_type": "markdown",
   "metadata": {},
   "source": [
    "## 3. SVM"
   ]
  },
  {
   "cell_type": "code",
   "execution_count": 31,
   "metadata": {},
   "outputs": [
    {
     "name": "stdout",
     "output_type": "stream",
     "text": [
      "Test Accuracy of SVM Algorithm: 83.05%\n"
     ]
    }
   ],
   "source": [
    "svm = SVC(random_state = 1)\n",
    "svm.fit(x_train.T, y_train.T)\n",
    "\n",
    "acc = svm.score(x_test.T,y_test.T)*100\n",
    "accuracies['SVM'] = acc\n",
    "print(\"Test Accuracy of SVM Algorithm: {:.2f}%\".format(acc))"
   ]
  },
  {
   "cell_type": "markdown",
   "metadata": {},
   "source": [
    "## 4.Gaussian Naive Bayes"
   ]
  },
  {
   "cell_type": "code",
   "execution_count": 32,
   "metadata": {},
   "outputs": [
    {
     "name": "stdout",
     "output_type": "stream",
     "text": [
      "Accuracy of Naive Bayes: 83.05%\n"
     ]
    }
   ],
   "source": [
    "nb = GaussianNB()\n",
    "nb.fit(x_train.T, y_train.T)\n",
    "\n",
    "acc = nb.score(x_test.T,y_test.T)*100\n",
    "accuracies['Naive Bayes'] = acc\n",
    "print(\"Accuracy of Naive Bayes: {:.2f}%\".format(acc))"
   ]
  },
  {
   "cell_type": "markdown",
   "metadata": {},
   "source": [
    "## 5. Decision Tree Classifier"
   ]
  },
  {
   "cell_type": "code",
   "execution_count": 33,
   "metadata": {},
   "outputs": [
    {
     "name": "stdout",
     "output_type": "stream",
     "text": [
      "Decision Tree Test Accuracy 81.36%\n"
     ]
    }
   ],
   "source": [
    "dtc = DecisionTreeClassifier()\n",
    "dtc.fit(x_train.T, y_train.T)\n",
    "\n",
    "acc = dtc.score(x_test.T, y_test.T)*100\n",
    "accuracies['Decision Tree'] = acc\n",
    "print(\"Decision Tree Test Accuracy {:.2f}%\".format(acc))"
   ]
  },
  {
   "cell_type": "markdown",
   "metadata": {},
   "source": [
    "## Prediction "
   ]
  },
  {
   "cell_type": "code",
   "execution_count": 34,
   "metadata": {},
   "outputs": [],
   "source": [
    "# Predicted values\n",
    "y_head_lr = lr.predict(x_test.T)\n",
    "knn3 = KNeighborsClassifier(n_neighbors = 3)\n",
    "knn3.fit(x_train.T, y_train.T)\n",
    "y_head_knn = knn3.predict(x_test.T)\n",
    "y_head_svm = svm.predict(x_test.T)\n",
    "y_head_nb = nb.predict(x_test.T)\n",
    "y_head_dtc = dtc.predict(x_test.T)\n"
   ]
  },
  {
   "cell_type": "markdown",
   "metadata": {},
   "source": [
    "### Genrating Confusion Matrix"
   ]
  },
  {
   "cell_type": "code",
   "execution_count": 35,
   "metadata": {},
   "outputs": [],
   "source": [
    "\n",
    "cm_lr = confusion_matrix(y_test,y_head_lr)\n",
    "cm_knn = confusion_matrix(y_test,y_head_knn)\n",
    "cm_svm = confusion_matrix(y_test,y_head_svm)\n",
    "cm_nb = confusion_matrix(y_test,y_head_nb)\n",
    "cm_dtc = confusion_matrix(y_test,y_head_dtc)"
   ]
  },
  {
   "cell_type": "code",
   "execution_count": 36,
   "metadata": {},
   "outputs": [
    {
     "name": "stdout",
     "output_type": "stream",
     "text": [
      "Confusion Matrix for Logistic Regression\n",
      " [[29  4]\n",
      " [ 6 20]]\n",
      "Confusion Matrix for K Nearest Neighbors Classifier \n",
      " [[31  2]\n",
      " [ 7 19]]\n",
      "Confusion Matrix for Support Vector machine\n",
      " [[29  4]\n",
      " [ 6 20]]\n",
      "Confusion Matrix for Gaussian Naive Bayes\n",
      " [[28  5]\n",
      " [ 5 21]]\n",
      "Confusion Matrix for Decision Tree\n",
      " [[30  3]\n",
      " [ 8 18]]\n",
      "Accuracies of Logistic Regression  83.05084745762711\n",
      "Accuracies of K Nearest Neighbors Classifier  88.13559322033898\n",
      "Accuracies of Support Vector machine  83.05084745762711\n",
      "Accuracies of Gaussian Naive Bayes  83.05084745762711\n",
      "Accuracies of Decision Tree  81.35593220338984\n"
     ]
    }
   ],
   "source": [
    "print(\"Confusion Matrix for Logistic Regression\\n\",cm_lr)\n",
    "print(\"Confusion Matrix for K Nearest Neighbors Classifier \\n\",cm_knn)\n",
    "print(\"Confusion Matrix for Support Vector machine\\n\",cm_svm)\n",
    "print(\"Confusion Matrix for Gaussian Naive Bayes\\n\",cm_nb)\n",
    "print(\"Confusion Matrix for Decision Tree\\n\",cm_dtc)\n",
    "print(\"Accuracies of Logistic Regression \",accuracies['Logistic Regression'])\n",
    "print(\"Accuracies of K Nearest Neighbors Classifier \",accuracies['KNN'])\n",
    "print(\"Accuracies of Support Vector machine \",accuracies['SVM'])\n",
    "print(\"Accuracies of Gaussian Naive Bayes \",accuracies['Naive Bayes'])\n",
    "print(\"Accuracies of Decision Tree \",accuracies['Decision Tree'])"
   ]
  },
  {
   "cell_type": "markdown",
   "metadata": {},
   "source": [
    "## Plotting Confusion Matrix "
   ]
  },
  {
   "cell_type": "code",
   "execution_count": 37,
   "metadata": {
    "scrolled": true
   },
   "outputs": [
    {
     "data": {
      "image/png": "[encoded data removed]",
      "text/plain": [
       "<Figure size 1080x360 with 5 Axes>"
      ]
     },
     "metadata": {
      "needs_background": "light"
     },
     "output_type": "display_data"
    }
   ],
   "source": [
    "plt.figure(figsize=(15,5))\n",
    "\n",
    "plt.suptitle(\"Confusion Matrixes\",fontsize=24)\n",
    "plt.subplots_adjust(wspace = 0.4, hspace= 0.4)\n",
    "\n",
    "plt.subplot(2,3,1)\n",
    "plt.title(\"Logistic Regression Confusion Matrix\")\n",
    "sns.heatmap(cm_lr,annot=True,cmap=\"Blues\",fmt=\"d\",cbar=False, annot_kws={\"size\": 24})\n",
    "\n",
    "plt.subplot(2,3,2)\n",
    "plt.title(\"K Nearest Neighbors Confusion Matrix\")\n",
    "sns.heatmap(cm_knn,annot=True,cmap=\"Blues\",fmt=\"d\",cbar=False, annot_kws={\"size\": 24})\n",
    "\n",
    "plt.subplot(2,3,3)\n",
    "plt.title(\"Support Vector Machine Confusion Matrix\")\n",
    "sns.heatmap(cm_svm,annot=True,cmap=\"Blues\",fmt=\"d\",cbar=False, annot_kws={\"size\": 24})\n",
    "\n",
    "plt.subplot(2,3,4)\n",
    "plt.title(\"Naive Bayes Confusion Matrix\")\n",
    "sns.heatmap(cm_nb,annot=True,cmap=\"Blues\",fmt=\"d\",cbar=False, annot_kws={\"size\": 24})\n",
    "\n",
    "plt.subplot(2,3,5)\n",
    "plt.title(\"Decision Tree Classifier Confusion Matrix\")\n",
    "sns.heatmap(cm_dtc,annot=True,cmap=\"Blues\",fmt=\"d\",cbar=False, annot_kws={\"size\": 24})\n",
    "plt.show()"
   ]
  },
  {
   "cell_type": "markdown",
   "metadata": {},
   "source": [
    "\n"
   ]
  },
  {
   "cell_type": "code",
   "execution_count": null,
   "metadata": {},
   "outputs": [],
   "source": []
  }
 ],
 "metadata": {
  "kernelspec": {
   "display_name": "Python 3",
   "language": "python",
   "name": "python3"
  },
  "language_info": {
   "codemirror_mode": {
    "name": "ipython",
    "version": 3
   },
   "file_extension": ".py",
   "mimetype": "text/x-python",
   "name": "python",
   "nbconvert_exporter": "python",
   "pygments_lexer": "ipython3",
   "version": "3.8.3"
  }
 },
 "nbformat": 4,
 "nbformat_minor": 4
}
